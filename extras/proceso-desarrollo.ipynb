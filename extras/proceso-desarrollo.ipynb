{
 "cells": [
  {
   "cell_type": "markdown",
   "metadata": {},
   "source": [
    "# Cómo crear documentos en Firestore\n",
    "\n",
    "Lo mejor para empezar sería crear un entorno virtual en el que instalar `firebase-admin`.\n",
    "\n",
    "```bash\n",
    "py -m venv appsalud --upgrade-deps\n",
    "appsalud/Scripts/activate\n",
    "\n",
    "pip install firebase-admin\n",
    "```\n",
    "\n",
    "En Firebase creamos una nueva db y generamos una llave privada. La guardamos por ejemplo en el directorio “cred” de la carpeta de proyecto para que cuadre el código siguiente (variable cred)."
   ]
  },
  {
   "cell_type": "code",
   "execution_count": 1,
   "metadata": {},
   "outputs": [],
   "source": [
    "import firebase_admin\n",
    "from firebase_admin import credentials, firestore\n",
    "\n",
    "cred = credentials.Certificate(r\"cred\\desappgcp-firebase-adminsdk-pxid8-73aa5b9b41.json\")\n",
    "firebase_admin.initialize_app(cred)\n",
    "\n",
    "db = firestore.client()"
   ]
  },
  {
   "cell_type": "code",
   "execution_count": null,
   "metadata": {},
   "outputs": [],
   "source": [
    "import firebase_admin\n",
    "from firebase_admin import credentials\n",
    "\n",
    "cred = credentials.Certificate(\"path/to/serviceAccountKey.json\")\n",
    "firebase_admin.initialize_app(cred)\n"
   ]
  },
  {
   "cell_type": "markdown",
   "metadata": {},
   "source": [
    "## Crear"
   ]
  },
  {
   "cell_type": "code",
   "execution_count": null,
   "metadata": {},
   "outputs": [],
   "source": [
    "# Create a new document in Firestore\n",
    "def create_document(collection, document_data):\n",
    "    db = firestore.client()\n",
    "    doc_ref = db.collection(collection).document()\n",
    "    doc_ref.set(document_data)\n",
    "    print(\"Document created with ID:\", doc_ref.id)\n",
    "\n",
    "\n",
    "# Usage example\n",
    "create_document(\"users\", {\"name\": \"John Doe\", \"email\": \"johndoe@example.com\"})"
   ]
  },
  {
   "cell_type": "markdown",
   "metadata": {},
   "source": [
    "## Leer"
   ]
  },
  {
   "cell_type": "code",
   "execution_count": null,
   "metadata": {},
   "outputs": [],
   "source": [
    "# Read a document from Firestore\n",
    "def read_document(collection, document_id):\n",
    "    db = firestore.client()\n",
    "    doc_ref = db.collection(collection).document(document_id)\n",
    "    document = doc_ref.get()\n",
    "    if document.exists:\n",
    "        print(\"Document data:\", document.to_dict())\n",
    "    else:\n",
    "        print(\"No such document!\")\n",
    "\n",
    "\n",
    "# Usage example\n",
    "read_document(\"users\", \"document_id123\")"
   ]
  },
  {
   "cell_type": "markdown",
   "metadata": {},
   "source": [
    "## Actualizar"
   ]
  },
  {
   "cell_type": "code",
   "execution_count": null,
   "metadata": {},
   "outputs": [],
   "source": [
    "# Update a document in Firestore\n",
    "def update_document(collection, document_id, update_data):\n",
    "    db = firestore.client()\n",
    "    doc_ref = db.collection(collection).document(document_id)\n",
    "    doc_ref.update(update_data)\n",
    "    print('Document updated successfully!')\n",
    "\n",
    "# Usage example\n",
    "update_document('users', 'document_id123', {'name': 'Jane Smith'})\n"
   ]
  },
  {
   "cell_type": "markdown",
   "metadata": {},
   "source": [
    "## Eliminar"
   ]
  },
  {
   "cell_type": "code",
   "execution_count": null,
   "metadata": {},
   "outputs": [],
   "source": [
    "# Delete a document from Firestore\n",
    "def delete_document(collection, document_id):\n",
    "    db = firestore.client()\n",
    "    doc_ref = db.collection(collection).document(document_id)\n",
    "    doc_ref.delete()\n",
    "    print(\"Document deleted successfully!\")\n",
    "\n",
    "\n",
    "# Usage example\n",
    "delete_document(\"users\", \"document_id123\")"
   ]
  },
  {
   "cell_type": "markdown",
   "metadata": {},
   "source": [
    "# Pruebas"
   ]
  },
  {
   "cell_type": "code",
   "execution_count": 1,
   "metadata": {},
   "outputs": [
    {
     "name": "stdout",
     "output_type": "stream",
     "text": [
      "1234\n"
     ]
    }
   ],
   "source": [
    "diction = {\"dia\": 1234}\n",
    "\n",
    "print(diction[\"dia\"])"
   ]
  },
  {
   "cell_type": "code",
   "execution_count": 6,
   "metadata": {},
   "outputs": [
    {
     "name": "stdout",
     "output_type": "stream",
     "text": [
      "1_4_24\n"
     ]
    }
   ],
   "source": [
    "import re\n",
    "\n",
    "entrada = \"01-04-24\"\n",
    "entrada = re.sub(\"[-/]\", \"_\", entrada)\n",
    "\n",
    "print(entrada)"
   ]
  },
  {
   "cell_type": "code",
   "execution_count": 4,
   "metadata": {},
   "outputs": [
    {
     "name": "stdout",
     "output_type": "stream",
     "text": [
      "No es una fecha válida\n"
     ]
    }
   ],
   "source": [
    "import re\n",
    "\n",
    "pat = r\"[0-3][0-9][-/ ][0-1][0-9][-/ ][0-9]{4}\"\n",
    "# pat = r\"[0-9]{2}[-/ ][0-9]{2}[-/ ][0-9]{4}\"\n",
    "# r\"\\d{2}[-/ ]\\d{2}[-/ ]\\d{4}\"\n",
    "what_day = input(f\"\\nIntroduce el día que quieres añadir: \")\n",
    "search = re.search(pat, what_day)\n",
    "\n",
    "if search:\n",
    "    print(\"muy bien\")\n",
    "else:\n",
    "    print(\"No es una fecha válida\")"
   ]
  },
  {
   "cell_type": "code",
   "execution_count": null,
   "metadata": {},
   "outputs": [],
   "source": [
    "def comprueba(input):\n",
    "    pat = r\"[0-9]{2}[-/ ][0-9]{2}[-/ ][0-9]{4}\"\n",
    "    search = re.search(pat, input)\n",
    "    if search:\n",
    "        return True\n",
    "    else:\n",
    "        return False"
   ]
  }
 ],
 "metadata": {
  "kernelspec": {
   "display_name": "Python 3",
   "language": "python",
   "name": "python3"
  },
  "language_info": {
   "codemirror_mode": {
    "name": "ipython",
    "version": 3
   },
   "file_extension": ".py",
   "mimetype": "text/x-python",
   "name": "python",
   "nbconvert_exporter": "python",
   "pygments_lexer": "ipython3",
   "version": "3.12.1"
  }
 },
 "nbformat": 4,
 "nbformat_minor": 2
}
